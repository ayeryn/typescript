{
 "cells": [
  {
   "cell_type": "markdown",
   "metadata": {},
   "source": [
    "# Typescript Notes\n",
    "TS is a superset of JS.\n",
    "\n",
    "## Resources\n",
    "- [Youtube](https://www.youtube.com/watch?v=SpwzRDUQ1GI&ab_channel=freeCodeCamp.org)\n",
    "- [TypeScript Documentation](https://www.typescriptlang.org/docs/)\n",
    "\n",
    "## Why Learn TS?\n",
    "1. Confidence\n",
    "   - App-crashing runtime errors are dramatically reduced by TS, which checks the code at compile time before it ever gets deployed.\n",
    "2. Productivity\n",
    "   - Using TS \"turns on\" a number of neat features that make your life as a developer a LOT easier\n",
    "   - Autocomplete, refactoring capacilities, immediate error checking, and more, all greatly improve the developer experience (DX)\n",
    "3. Employability\n",
    "   - TS is considered \"table stakes\" by many companies, even if it isn't explicitly listed in job descriptions\n",
    "   - Knowing even a little TS can set you apart from other junior developer candidates\n"
   ]
  },
  {
   "cell_type": "markdown",
   "metadata": {},
   "source": [
    "## Javascript Basics\n",
    "### `const`\n",
    "In JavaScript, even though an object is declared as `const`, you can still modify the **properties** of the object. The const keyword ensures that the **reference** to the object can't be reassigned, but it does not make the object itself immutable.\n"
   ]
  },
  {
   "cell_type": "code",
   "execution_count": 13,
   "metadata": {},
   "outputs": [
    {
     "name": "stdout",
     "output_type": "stream",
     "text": [
      "{ name: 'Amy', age: 25 }\n",
      "{ name: 'Beatrice', age: 37 }\n"
     ]
    }
   ],
   "source": [
    "// YES: change the properties of the object\n",
    "const person = {\n",
    "  name: \"Amy\",\n",
    "  age: 25\n",
    "}\n",
    "console.log(person);\n",
    "person.name = \"Beatrice\";\n",
    "person.age = 37;\n",
    "console.log(person);"
   ]
  },
  {
   "cell_type": "code",
   "execution_count": 14,
   "metadata": {},
   "outputs": [
    {
     "name": "stderr",
     "output_type": "stream",
     "text": [
      "2:1 - Cannot assign to 'person' because it is a constant.\n"
     ]
    }
   ],
   "source": [
    "// NO: reassign the variable to something else\n",
    "person = {\n",
    "  name: \"Cathy\",\n",
    "  age: 12,\n",
    "};"
   ]
  },
  {
   "cell_type": "code",
   "execution_count": 5,
   "metadata": {},
   "outputs": [
    {
     "name": "stdout",
     "output_type": "stream",
     "text": [
      "{ name: 'Beatrice', age: 37 }\n"
     ]
    }
   ],
   "source": [
    "// Make the object immutable\n",
    "Object.freeze(person);\n",
    "\n",
    "person.name = \"Jane\";  // This won't change anything\n",
    "console.log(person);"
   ]
  },
  {
   "cell_type": "markdown",
   "metadata": {},
   "source": [
    "### Array Methods\n",
    "- Append an element: `arr.push(obj)`\n",
    "- Find the first element that matches the condition provided in callback function: `arr.find((element) => condition)`"
   ]
  },
  {
   "cell_type": "markdown",
   "metadata": {},
   "source": [
    "## JS to TS\n",
    "**Defensive Coding**: assume problems will occur\n",
    "1. Errors on updating `const` variable: `Cannot assign to 'nextOrderId' because it is a constant.`\n",
    "   ![Const Error](public/notes/const_error.png)\n",
    "\n",
    "2. Errors on data type: `'pizza' is possibly 'undefined'.`\n",
    "3. ![Undefined](public/notes/undefined.png)"
   ]
  },
  {
   "cell_type": "markdown",
   "metadata": {},
   "source": [
    "## Typing"
   ]
  },
  {
   "cell_type": "code",
   "execution_count": 8,
   "metadata": {},
   "outputs": [],
   "source": [
    "// Explicit Tying\n",
    "let myName: string = \"Eryn\";\n",
    "let myAge: number = 29;\n",
    "let isMarried: boolean = false;"
   ]
  },
  {
   "cell_type": "markdown",
   "metadata": {},
   "source": [
    "\n",
    "### Type Inference\n",
    "1. Smart enough to infer\n",
    "2. Smart enough to not reassign to a different type    \n",
    "   \n",
    "  ![Infer](public/notes/infer.png)\n"
   ]
  },
  {
   "cell_type": "markdown",
   "metadata": {},
   "source": [
    "### Custom Types\n",
    "When we have multiple objects with the same or similar structure, we can create a custom type to represent the object# Site-specific:\n",
    "\n",
    "Start with the following declarations of `person` and `person2`. Notice `person2.isstudent` is spelled different from `person` but has an identical structure otherwise."
   ]
  },
  {
   "cell_type": "code",
   "execution_count": 15,
   "metadata": {},
   "outputs": [],
   "source": [
    "let person = {\n",
    "  name: \"Amy\",\n",
    "  age: 42,\n",
    "  isStudent: true\n",
    "};\n",
    "\n",
    "let person2 = {\n",
    "  name: \"Bob\",\n",
    "  age: 19,\n",
    "  isstudent: false\n",
    "};"
   ]
  },
  {
   "cell_type": "markdown",
   "metadata": {},
   "source": [
    "Now define a custom type that represents a `Person` object, and explicitly declare `person` and `person2` as `Person`. Notice that the typo gets picked up by by the compiler."
   ]
  },
  {
   "cell_type": "code",
   "execution_count": 16,
   "metadata": {},
   "outputs": [],
   "source": [
    "type Person = {\n",
    "  name: string,\n",
    "  age: number,\n",
    "  isStudent: boolean,\n",
    "}\n",
    "\n",
    "let person: Person = {\n",
    "  name: \"Amy\",\n",
    "  age: 42,\n",
    "  isStudent: true,\n",
    "};\n",
    "\n",
    "let person2: Person = {\n",
    "  name: \"Bob\",\n",
    "  age: 19,\n",
    "  isStudent: false,\n",
    "};"
   ]
  }
 ],
 "metadata": {
  "kernelspec": {
   "display_name": "TypeScript",
   "language": "typescript",
   "name": "tslab"
  },
  "language_info": {
   "codemirror_mode": {
    "mode": "typescript",
    "name": "javascript",
    "typescript": true
   },
   "file_extension": ".ts",
   "mimetype": "text/typescript",
   "name": "typescript",
   "version": "3.7.2"
  }
 },
 "nbformat": 4,
 "nbformat_minor": 2
}
