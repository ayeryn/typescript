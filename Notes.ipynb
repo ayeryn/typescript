{
 "cells": [
  {
   "cell_type": "markdown",
   "metadata": {},
   "source": [
    "# Typescript Notes\n",
    "TS is a superset of JS.\n",
    "*[Source](https://www.youtube.com/watch?v=SpwzRDUQ1GI&ab_channel=freeCodeCamp.org)\n",
    "\n",
    "## Why Learn TS?\n",
    "1. Confidence\n",
    "   - App-crashing runtime errors are dramatically reduced by TS, which checks the code at compile time before it ever gets deployed.\n",
    "2. Productivity\n",
    "   - Using TS \"turns on\" a number of neat features that make your life as a developer a LOT easier\n",
    "   - Autocomplete, refactoring capacilities, immediate error checking, and more, all greatly improve the developer experience (DX)\n",
    "3. Employability\n",
    "   - TS is considered \"table stakes\" by many companies, even if it isn't explicitly listed in job descriptions\n",
    "   - Knowing even a little TS can set you apart from other junior developer candidates\n"
   ]
  }
 ],
 "metadata": {
  "kernelspec": {
   "display_name": "TypeScript",
   "language": "typescript",
   "name": "tslab"
  },
  "language_info": {
   "name": "typescript"
  }
 },
 "nbformat": 4,
 "nbformat_minor": 2
}
